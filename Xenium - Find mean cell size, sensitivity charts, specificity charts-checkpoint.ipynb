{
 "cells": [
  {
   "cell_type": "code",
   "execution_count": 1,
   "id": "30c0f1cd",
   "metadata": {},
   "outputs": [],
   "source": [
    "import pandas as pd\n",
    "import numpy as np\n",
    "import matplotlib.pyplot as plt\n",
    "import scanpy as sc\n",
    "import anndata\n",
    "import umap.umap_ as umap\n",
    "import leidenalg\n",
    "from mpl_toolkits.mplot3d import Axes3D\n",
    "import seaborn as sns\n",
    "from sklearn.cluster import KMeans\n",
    "from scipy.spatial.distance import pdist, squareform\n",
    "from sklearn.metrics import pairwise_distances\n",
    "from scipy.stats import zscore\n",
    "from matplotlib.colorbar import ColorbarBase\n",
    "import matplotlib.colors as mcolors\n",
    "\n",
    "%matplotlib inline"
   ]
  },
  {
   "cell_type": "markdown",
   "id": "321ff21b",
   "metadata": {},
   "source": [
    "### Upload Xenium scdata"
   ]
  },
  {
   "cell_type": "code",
   "execution_count": 2,
   "id": "3e0d3f64",
   "metadata": {
    "scrolled": true
   },
   "outputs": [
    {
     "data": {
      "text/plain": [
       "AnnData object with n_obs × n_vars = 460757 × 248\n",
       "    obs: 'AUCell scores - AUCell score', 'Cell type', 'Condition', 'Louvain clustering (resolution=1.0)', 'Louvain sub-clustering (resolution=1.0)', 'New condition', 'Number of genes', 'Number of mRNA transcripts', 'Predicted from gene sets', 'Sample ID', 'Transcripts retention rate', 'leiden', 'cluster_names', 'cluster_names_updated'\n",
       "    uns: 'cluster_names_colors', 'cluster_names_updated_colors', 'leiden', 'leiden_colors', 'neighbors', 'pca', 'rank_genes_groups'\n",
       "    obsm: 'X_harmony_(batches)', 'X_pca', 'X_pca_(no_batch_corrected)', 'X_tsne_(perplexity=15)_-_pca_(no_batch_corrected)', 'X_umap', 'X_umap_(n_neighbors=30)', 'X_umap_(n_neighbors=30)_-_harmony_(batches)'\n",
       "    varm: 'PCs'\n",
       "    obsp: 'connectivities', 'distances'"
      ]
     },
     "execution_count": 2,
     "metadata": {},
     "output_type": "execute_result"
    }
   ],
   "source": [
    "xenium_scdata = sc.read_h5ad(r\"D:\\SMI-0214_DonCleveland_UCSD\\SMI-0214_DonCleveland_UCSD\\MERGED_BEST_0004_XENIUM.h5ad\")\n",
    "xenium_scdata"
   ]
  },
  {
   "cell_type": "code",
   "execution_count": 3,
   "id": "5c6aad10",
   "metadata": {},
   "outputs": [
    {
     "data": {
      "text/plain": [
       "['C24m1',\n",
       " 'C24m2',\n",
       " 'C24m3',\n",
       " 'C3m1',\n",
       " 'C3m2',\n",
       " 'C3m3',\n",
       " 'HD24m1',\n",
       " 'HD24m2',\n",
       " 'HD24m3',\n",
       " 'R61']"
      ]
     },
     "execution_count": 3,
     "metadata": {},
     "output_type": "execute_result"
    }
   ],
   "source": [
    "sample_id_list = list(xenium_scdata.obs['Sample ID'].unique())\n",
    "sample_id_list"
   ]
  },
  {
   "cell_type": "markdown",
   "id": "4ab61fca",
   "metadata": {},
   "source": [
    "### Upload raw data sets"
   ]
  },
  {
   "cell_type": "code",
   "execution_count": 4,
   "id": "5a4e41b9",
   "metadata": {},
   "outputs": [],
   "source": [
    "Xenium_combined_cell_df = pd.DataFrame()"
   ]
  },
  {
   "cell_type": "code",
   "execution_count": 5,
   "id": "98da5786",
   "metadata": {},
   "outputs": [],
   "source": [
    "cells_base_file_path = r\"D:\\SMI-0214_DonCleveland_UCSD\\SMI-0214_DonCleveland_UCSD\\xenium_prerelease_molina_mouse_brain_Mar13\\{sample_id}\\cells.csv.gz\""
   ]
  },
  {
   "cell_type": "code",
   "execution_count": 9,
   "id": "f7b86cfc",
   "metadata": {},
   "outputs": [
    {
     "name": "stderr",
     "output_type": "stream",
     "text": [
      "C:\\Users\\krist\\AppData\\Local\\Temp\\ipykernel_25632\\2466877532.py:4: FutureWarning: The frame.append method is deprecated and will be removed from pandas in a future version. Use pandas.concat instead.\n",
      "  Xenium_combined_cell_df = Xenium_combined_cell_df.append(current_cell_df)\n",
      "C:\\Users\\krist\\AppData\\Local\\Temp\\ipykernel_25632\\2466877532.py:4: FutureWarning: The frame.append method is deprecated and will be removed from pandas in a future version. Use pandas.concat instead.\n",
      "  Xenium_combined_cell_df = Xenium_combined_cell_df.append(current_cell_df)\n",
      "C:\\Users\\krist\\AppData\\Local\\Temp\\ipykernel_25632\\2466877532.py:4: FutureWarning: The frame.append method is deprecated and will be removed from pandas in a future version. Use pandas.concat instead.\n",
      "  Xenium_combined_cell_df = Xenium_combined_cell_df.append(current_cell_df)\n",
      "C:\\Users\\krist\\AppData\\Local\\Temp\\ipykernel_25632\\2466877532.py:4: FutureWarning: The frame.append method is deprecated and will be removed from pandas in a future version. Use pandas.concat instead.\n",
      "  Xenium_combined_cell_df = Xenium_combined_cell_df.append(current_cell_df)\n",
      "C:\\Users\\krist\\AppData\\Local\\Temp\\ipykernel_25632\\2466877532.py:4: FutureWarning: The frame.append method is deprecated and will be removed from pandas in a future version. Use pandas.concat instead.\n",
      "  Xenium_combined_cell_df = Xenium_combined_cell_df.append(current_cell_df)\n",
      "C:\\Users\\krist\\AppData\\Local\\Temp\\ipykernel_25632\\2466877532.py:4: FutureWarning: The frame.append method is deprecated and will be removed from pandas in a future version. Use pandas.concat instead.\n",
      "  Xenium_combined_cell_df = Xenium_combined_cell_df.append(current_cell_df)\n",
      "C:\\Users\\krist\\AppData\\Local\\Temp\\ipykernel_25632\\2466877532.py:4: FutureWarning: The frame.append method is deprecated and will be removed from pandas in a future version. Use pandas.concat instead.\n",
      "  Xenium_combined_cell_df = Xenium_combined_cell_df.append(current_cell_df)\n",
      "C:\\Users\\krist\\AppData\\Local\\Temp\\ipykernel_25632\\2466877532.py:4: FutureWarning: The frame.append method is deprecated and will be removed from pandas in a future version. Use pandas.concat instead.\n",
      "  Xenium_combined_cell_df = Xenium_combined_cell_df.append(current_cell_df)\n",
      "C:\\Users\\krist\\AppData\\Local\\Temp\\ipykernel_25632\\2466877532.py:4: FutureWarning: The frame.append method is deprecated and will be removed from pandas in a future version. Use pandas.concat instead.\n",
      "  Xenium_combined_cell_df = Xenium_combined_cell_df.append(current_cell_df)\n",
      "C:\\Users\\krist\\AppData\\Local\\Temp\\ipykernel_25632\\2466877532.py:4: FutureWarning: The frame.append method is deprecated and will be removed from pandas in a future version. Use pandas.concat instead.\n",
      "  Xenium_combined_cell_df = Xenium_combined_cell_df.append(current_cell_df)\n"
     ]
    },
    {
     "data": {
      "text/html": [
       "<div>\n",
       "<style scoped>\n",
       "    .dataframe tbody tr th:only-of-type {\n",
       "        vertical-align: middle;\n",
       "    }\n",
       "\n",
       "    .dataframe tbody tr th {\n",
       "        vertical-align: top;\n",
       "    }\n",
       "\n",
       "    .dataframe thead th {\n",
       "        text-align: right;\n",
       "    }\n",
       "</style>\n",
       "<table border=\"1\" class=\"dataframe\">\n",
       "  <thead>\n",
       "    <tr style=\"text-align: right;\">\n",
       "      <th></th>\n",
       "      <th>cell_id</th>\n",
       "      <th>x_centroid</th>\n",
       "      <th>y_centroid</th>\n",
       "      <th>transcript_counts</th>\n",
       "      <th>control_probe_counts</th>\n",
       "      <th>control_codeword_counts</th>\n",
       "      <th>unassigned_codeword_counts</th>\n",
       "      <th>total_counts</th>\n",
       "      <th>cell_area</th>\n",
       "      <th>nucleus_area</th>\n",
       "    </tr>\n",
       "  </thead>\n",
       "  <tbody>\n",
       "    <tr>\n",
       "      <th>0</th>\n",
       "      <td>1</td>\n",
       "      <td>848.498181</td>\n",
       "      <td>837.036722</td>\n",
       "      <td>0</td>\n",
       "      <td>0</td>\n",
       "      <td>0</td>\n",
       "      <td>0</td>\n",
       "      <td>0</td>\n",
       "      <td>876.934375</td>\n",
       "      <td>10.702031</td>\n",
       "    </tr>\n",
       "    <tr>\n",
       "      <th>1</th>\n",
       "      <td>2</td>\n",
       "      <td>2177.571753</td>\n",
       "      <td>860.930573</td>\n",
       "      <td>406</td>\n",
       "      <td>2</td>\n",
       "      <td>0</td>\n",
       "      <td>0</td>\n",
       "      <td>408</td>\n",
       "      <td>611.596250</td>\n",
       "      <td>74.643281</td>\n",
       "    </tr>\n",
       "    <tr>\n",
       "      <th>2</th>\n",
       "      <td>3</td>\n",
       "      <td>2194.901086</td>\n",
       "      <td>850.563727</td>\n",
       "      <td>498</td>\n",
       "      <td>0</td>\n",
       "      <td>0</td>\n",
       "      <td>1</td>\n",
       "      <td>499</td>\n",
       "      <td>451.201250</td>\n",
       "      <td>72.882188</td>\n",
       "    </tr>\n",
       "    <tr>\n",
       "      <th>3</th>\n",
       "      <td>4</td>\n",
       "      <td>2204.765735</td>\n",
       "      <td>858.351675</td>\n",
       "      <td>67</td>\n",
       "      <td>0</td>\n",
       "      <td>0</td>\n",
       "      <td>0</td>\n",
       "      <td>67</td>\n",
       "      <td>76.133437</td>\n",
       "      <td>7.179844</td>\n",
       "    </tr>\n",
       "    <tr>\n",
       "      <th>4</th>\n",
       "      <td>5</td>\n",
       "      <td>2212.488989</td>\n",
       "      <td>854.084918</td>\n",
       "      <td>520</td>\n",
       "      <td>0</td>\n",
       "      <td>0</td>\n",
       "      <td>0</td>\n",
       "      <td>520</td>\n",
       "      <td>308.010781</td>\n",
       "      <td>84.261562</td>\n",
       "    </tr>\n",
       "    <tr>\n",
       "      <th>...</th>\n",
       "      <td>...</td>\n",
       "      <td>...</td>\n",
       "      <td>...</td>\n",
       "      <td>...</td>\n",
       "      <td>...</td>\n",
       "      <td>...</td>\n",
       "      <td>...</td>\n",
       "      <td>...</td>\n",
       "      <td>...</td>\n",
       "      <td>...</td>\n",
       "    </tr>\n",
       "    <tr>\n",
       "      <th>62710</th>\n",
       "      <td>62711</td>\n",
       "      <td>4537.563965</td>\n",
       "      <td>827.317804</td>\n",
       "      <td>4</td>\n",
       "      <td>0</td>\n",
       "      <td>0</td>\n",
       "      <td>0</td>\n",
       "      <td>4</td>\n",
       "      <td>886.326875</td>\n",
       "      <td>41.814688</td>\n",
       "    </tr>\n",
       "    <tr>\n",
       "      <th>62711</th>\n",
       "      <td>62712</td>\n",
       "      <td>4522.771973</td>\n",
       "      <td>838.934436</td>\n",
       "      <td>0</td>\n",
       "      <td>0</td>\n",
       "      <td>0</td>\n",
       "      <td>0</td>\n",
       "      <td>0</td>\n",
       "      <td>435.486875</td>\n",
       "      <td>7.270156</td>\n",
       "    </tr>\n",
       "    <tr>\n",
       "      <th>62712</th>\n",
       "      <td>62713</td>\n",
       "      <td>4795.765991</td>\n",
       "      <td>725.019598</td>\n",
       "      <td>2</td>\n",
       "      <td>0</td>\n",
       "      <td>0</td>\n",
       "      <td>0</td>\n",
       "      <td>2</td>\n",
       "      <td>987.702656</td>\n",
       "      <td>24.023125</td>\n",
       "    </tr>\n",
       "    <tr>\n",
       "      <th>62713</th>\n",
       "      <td>62714</td>\n",
       "      <td>4781.869653</td>\n",
       "      <td>754.996158</td>\n",
       "      <td>0</td>\n",
       "      <td>1</td>\n",
       "      <td>0</td>\n",
       "      <td>0</td>\n",
       "      <td>1</td>\n",
       "      <td>896.351562</td>\n",
       "      <td>14.811250</td>\n",
       "    </tr>\n",
       "    <tr>\n",
       "      <th>62714</th>\n",
       "      <td>62715</td>\n",
       "      <td>4752.350830</td>\n",
       "      <td>835.528937</td>\n",
       "      <td>2</td>\n",
       "      <td>0</td>\n",
       "      <td>0</td>\n",
       "      <td>0</td>\n",
       "      <td>2</td>\n",
       "      <td>912.743281</td>\n",
       "      <td>15.443437</td>\n",
       "    </tr>\n",
       "  </tbody>\n",
       "</table>\n",
       "<p>556343 rows × 10 columns</p>\n",
       "</div>"
      ],
      "text/plain": [
       "       cell_id   x_centroid  y_centroid  transcript_counts  \\\n",
       "0            1   848.498181  837.036722                  0   \n",
       "1            2  2177.571753  860.930573                406   \n",
       "2            3  2194.901086  850.563727                498   \n",
       "3            4  2204.765735  858.351675                 67   \n",
       "4            5  2212.488989  854.084918                520   \n",
       "...        ...          ...         ...                ...   \n",
       "62710    62711  4537.563965  827.317804                  4   \n",
       "62711    62712  4522.771973  838.934436                  0   \n",
       "62712    62713  4795.765991  725.019598                  2   \n",
       "62713    62714  4781.869653  754.996158                  0   \n",
       "62714    62715  4752.350830  835.528937                  2   \n",
       "\n",
       "       control_probe_counts  control_codeword_counts  \\\n",
       "0                         0                        0   \n",
       "1                         2                        0   \n",
       "2                         0                        0   \n",
       "3                         0                        0   \n",
       "4                         0                        0   \n",
       "...                     ...                      ...   \n",
       "62710                     0                        0   \n",
       "62711                     0                        0   \n",
       "62712                     0                        0   \n",
       "62713                     1                        0   \n",
       "62714                     0                        0   \n",
       "\n",
       "       unassigned_codeword_counts  total_counts   cell_area  nucleus_area  \n",
       "0                               0             0  876.934375     10.702031  \n",
       "1                               0           408  611.596250     74.643281  \n",
       "2                               1           499  451.201250     72.882188  \n",
       "3                               0            67   76.133437      7.179844  \n",
       "4                               0           520  308.010781     84.261562  \n",
       "...                           ...           ...         ...           ...  \n",
       "62710                           0             4  886.326875     41.814688  \n",
       "62711                           0             0  435.486875      7.270156  \n",
       "62712                           0             2  987.702656     24.023125  \n",
       "62713                           0             1  896.351562     14.811250  \n",
       "62714                           0             2  912.743281     15.443437  \n",
       "\n",
       "[556343 rows x 10 columns]"
      ]
     },
     "execution_count": 9,
     "metadata": {},
     "output_type": "execute_result"
    }
   ],
   "source": [
    "for sample_id in sample_id_list:\n",
    "    current_path = cells_base_file_path.replace('{sample_id}', sample_id)\n",
    "    current_cell_df = pd.read_csv(current_path)\n",
    "    Xenium_combined_cell_df = Xenium_combined_cell_df.append(current_cell_df)\n",
    "Xenium_combined_cell_df"
   ]
  },
  {
   "cell_type": "code",
   "execution_count": 10,
   "id": "da7eace1",
   "metadata": {},
   "outputs": [
    {
     "data": {
      "text/html": [
       "<div>\n",
       "<style scoped>\n",
       "    .dataframe tbody tr th:only-of-type {\n",
       "        vertical-align: middle;\n",
       "    }\n",
       "\n",
       "    .dataframe tbody tr th {\n",
       "        vertical-align: top;\n",
       "    }\n",
       "\n",
       "    .dataframe thead th {\n",
       "        text-align: right;\n",
       "    }\n",
       "</style>\n",
       "<table border=\"1\" class=\"dataframe\">\n",
       "  <thead>\n",
       "    <tr style=\"text-align: right;\">\n",
       "      <th></th>\n",
       "      <th>cell_id</th>\n",
       "      <th>cell_area</th>\n",
       "      <th>nucleus_area</th>\n",
       "    </tr>\n",
       "  </thead>\n",
       "  <tbody>\n",
       "    <tr>\n",
       "      <th>0</th>\n",
       "      <td>1</td>\n",
       "      <td>876.934375</td>\n",
       "      <td>10.702031</td>\n",
       "    </tr>\n",
       "    <tr>\n",
       "      <th>1</th>\n",
       "      <td>2</td>\n",
       "      <td>611.596250</td>\n",
       "      <td>74.643281</td>\n",
       "    </tr>\n",
       "    <tr>\n",
       "      <th>2</th>\n",
       "      <td>3</td>\n",
       "      <td>451.201250</td>\n",
       "      <td>72.882188</td>\n",
       "    </tr>\n",
       "    <tr>\n",
       "      <th>3</th>\n",
       "      <td>4</td>\n",
       "      <td>76.133437</td>\n",
       "      <td>7.179844</td>\n",
       "    </tr>\n",
       "    <tr>\n",
       "      <th>4</th>\n",
       "      <td>5</td>\n",
       "      <td>308.010781</td>\n",
       "      <td>84.261562</td>\n",
       "    </tr>\n",
       "    <tr>\n",
       "      <th>...</th>\n",
       "      <td>...</td>\n",
       "      <td>...</td>\n",
       "      <td>...</td>\n",
       "    </tr>\n",
       "    <tr>\n",
       "      <th>62710</th>\n",
       "      <td>62711</td>\n",
       "      <td>886.326875</td>\n",
       "      <td>41.814688</td>\n",
       "    </tr>\n",
       "    <tr>\n",
       "      <th>62711</th>\n",
       "      <td>62712</td>\n",
       "      <td>435.486875</td>\n",
       "      <td>7.270156</td>\n",
       "    </tr>\n",
       "    <tr>\n",
       "      <th>62712</th>\n",
       "      <td>62713</td>\n",
       "      <td>987.702656</td>\n",
       "      <td>24.023125</td>\n",
       "    </tr>\n",
       "    <tr>\n",
       "      <th>62713</th>\n",
       "      <td>62714</td>\n",
       "      <td>896.351562</td>\n",
       "      <td>14.811250</td>\n",
       "    </tr>\n",
       "    <tr>\n",
       "      <th>62714</th>\n",
       "      <td>62715</td>\n",
       "      <td>912.743281</td>\n",
       "      <td>15.443437</td>\n",
       "    </tr>\n",
       "  </tbody>\n",
       "</table>\n",
       "<p>556343 rows × 3 columns</p>\n",
       "</div>"
      ],
      "text/plain": [
       "       cell_id   cell_area  nucleus_area\n",
       "0            1  876.934375     10.702031\n",
       "1            2  611.596250     74.643281\n",
       "2            3  451.201250     72.882188\n",
       "3            4   76.133437      7.179844\n",
       "4            5  308.010781     84.261562\n",
       "...        ...         ...           ...\n",
       "62710    62711  886.326875     41.814688\n",
       "62711    62712  435.486875      7.270156\n",
       "62712    62713  987.702656     24.023125\n",
       "62713    62714  896.351562     14.811250\n",
       "62714    62715  912.743281     15.443437\n",
       "\n",
       "[556343 rows x 3 columns]"
      ]
     },
     "execution_count": 10,
     "metadata": {},
     "output_type": "execute_result"
    }
   ],
   "source": [
    "cell_area_df = Xenium_combined_cell_df[['cell_id', 'cell_area', 'nucleus_area']]\n",
    "cell_area_df"
   ]
  },
  {
   "cell_type": "code",
   "execution_count": 11,
   "id": "a94baa81",
   "metadata": {},
   "outputs": [
    {
     "data": {
      "text/plain": [
       "304.56962099847794"
      ]
     },
     "execution_count": 11,
     "metadata": {},
     "output_type": "execute_result"
    }
   ],
   "source": [
    "cell_area_df['cell_area'].mean()"
   ]
  },
  {
   "cell_type": "markdown",
   "id": "2e9d197a",
   "metadata": {},
   "source": [
    "### Sensitivity Charts"
   ]
  },
  {
   "cell_type": "code",
   "execution_count": 16,
   "id": "953651b0",
   "metadata": {},
   "outputs": [
    {
     "data": {
      "text/plain": [
       "Index(['AUCell scores - AUCell score', 'Cell type', 'Condition',\n",
       "       'Louvain clustering (resolution=1.0)',\n",
       "       'Louvain sub-clustering (resolution=1.0)', 'New condition',\n",
       "       'Number of genes', 'Number of mRNA transcripts',\n",
       "       'Predicted from gene sets', 'Sample ID', 'Transcripts retention rate',\n",
       "       'leiden', 'cluster_names', 'cluster_names_updated'],\n",
       "      dtype='object')"
      ]
     },
     "execution_count": 16,
     "metadata": {},
     "output_type": "execute_result"
    }
   ],
   "source": [
    "xenium_scdata.obs.columns"
   ]
  },
  {
   "cell_type": "code",
   "execution_count": 36,
   "id": "8ee407df",
   "metadata": {
    "scrolled": false
   },
   "outputs": [
    {
     "data": {
      "text/html": [
       "<div>\n",
       "<style scoped>\n",
       "    .dataframe tbody tr th:only-of-type {\n",
       "        vertical-align: middle;\n",
       "    }\n",
       "\n",
       "    .dataframe tbody tr th {\n",
       "        vertical-align: top;\n",
       "    }\n",
       "\n",
       "    .dataframe thead th {\n",
       "        text-align: right;\n",
       "    }\n",
       "</style>\n",
       "<table border=\"1\" class=\"dataframe\">\n",
       "  <thead>\n",
       "    <tr style=\"text-align: right;\">\n",
       "      <th></th>\n",
       "      <th>index</th>\n",
       "      <th>Number of mRNA transcripts</th>\n",
       "    </tr>\n",
       "  </thead>\n",
       "  <tbody>\n",
       "    <tr>\n",
       "      <th>186384</th>\n",
       "      <td>7746</td>\n",
       "      <td>1904.0</td>\n",
       "    </tr>\n",
       "    <tr>\n",
       "      <th>370437</th>\n",
       "      <td>2395</td>\n",
       "      <td>1783.0</td>\n",
       "    </tr>\n",
       "    <tr>\n",
       "      <th>265299</th>\n",
       "      <td>40791</td>\n",
       "      <td>1690.0</td>\n",
       "    </tr>\n",
       "    <tr>\n",
       "      <th>231905</th>\n",
       "      <td>7359</td>\n",
       "      <td>1682.0</td>\n",
       "    </tr>\n",
       "    <tr>\n",
       "      <th>185459</th>\n",
       "      <td>6821</td>\n",
       "      <td>1652.0</td>\n",
       "    </tr>\n",
       "    <tr>\n",
       "      <th>...</th>\n",
       "      <td>...</td>\n",
       "      <td>...</td>\n",
       "    </tr>\n",
       "    <tr>\n",
       "      <th>58678</th>\n",
       "      <td>14078</td>\n",
       "      <td>10.0</td>\n",
       "    </tr>\n",
       "    <tr>\n",
       "      <th>318736</th>\n",
       "      <td>5935</td>\n",
       "      <td>10.0</td>\n",
       "    </tr>\n",
       "    <tr>\n",
       "      <th>22545</th>\n",
       "      <td>22577</td>\n",
       "      <td>10.0</td>\n",
       "    </tr>\n",
       "    <tr>\n",
       "      <th>179258</th>\n",
       "      <td>591</td>\n",
       "      <td>10.0</td>\n",
       "    </tr>\n",
       "    <tr>\n",
       "      <th>307607</th>\n",
       "      <td>42079</td>\n",
       "      <td>10.0</td>\n",
       "    </tr>\n",
       "  </tbody>\n",
       "</table>\n",
       "<p>460757 rows × 2 columns</p>\n",
       "</div>"
      ],
      "text/plain": [
       "        index Number of mRNA transcripts\n",
       "186384   7746                     1904.0\n",
       "370437   2395                     1783.0\n",
       "265299  40791                     1690.0\n",
       "231905   7359                     1682.0\n",
       "185459   6821                     1652.0\n",
       "...       ...                        ...\n",
       "58678   14078                       10.0\n",
       "318736   5935                       10.0\n",
       "22545   22577                       10.0\n",
       "179258    591                       10.0\n",
       "307607  42079                       10.0\n",
       "\n",
       "[460757 rows x 2 columns]"
      ]
     },
     "execution_count": 36,
     "metadata": {},
     "output_type": "execute_result"
    }
   ],
   "source": [
    "transcript_count_per_cell = xenium_scdata.obs[['Number of mRNA transcripts']]\n",
    "transcript_count_per_cell.reset_index(inplace = True)\n",
    "transcript_count_per_cell = transcript_count_per_cell.assign(index = transcript_count_per_cell['index'].str.split(\"_\").str.get(1))\n",
    "transcript_count_per_cell = transcript_count_per_cell.sort_values(by = 'Number of mRNA transcripts', ascending = False)\n",
    "transcript_count_per_cell"
   ]
  },
  {
   "cell_type": "code",
   "execution_count": 69,
   "id": "c6fcbb42",
   "metadata": {},
   "outputs": [
    {
     "data": {
      "text/plain": [
       "10.0"
      ]
     },
     "execution_count": 69,
     "metadata": {},
     "output_type": "execute_result"
    }
   ],
   "source": [
    "transcript_num_per_cell = transcript_count_per_cell['Number of mRNA transcripts']\n",
    "transcript_num_per_cell = transcript_num_per_cell.astype(float)\n",
    "transcript_num_per_cell.min()"
   ]
  },
  {
   "cell_type": "code",
   "execution_count": 65,
   "id": "1311bb27",
   "metadata": {},
   "outputs": [],
   "source": [
    "def plot_histogram_mean(ax, nums, xmax, bins=100):\n",
    "    n, _, _ = ax.hist(nums, bins=bins, range=(0,xmax))\n",
    "    mean = np.mean(nums)\n",
    "    ax.axvline(mean, ls=\":\", c=\"r\")\n",
    "    ax.text(mean*1.05, np.max(n)*0.95, s=f\"Mean: {mean:.0f}\", c=\"r\")"
   ]
  },
  {
   "cell_type": "code",
   "execution_count": 67,
   "id": "2b05f98b",
   "metadata": {},
   "outputs": [],
   "source": [
    "def plot_histogram_median(ax, nums, xmax, bins=100):\n",
    "    n, _, _ = ax.hist(nums, bins=bins, range=(0,xmax))\n",
    "    median = np.median(nums)\n",
    "    ax.axvline(median, ls=\":\", c=\"r\")\n",
    "    ax.text(median*1.05, np.max(n)*0.95, s=f\"Median: {median:.0f}\", c=\"r\")"
   ]
  },
  {
   "cell_type": "code",
   "execution_count": 84,
   "id": "fa117c61",
   "metadata": {},
   "outputs": [
    {
     "data": {
      "image/png": "[encoded data removed]",
      "text/plain": [
       "<Figure size 1800x600 with 2 Axes>"
      ]
     },
     "metadata": {},
     "output_type": "display_data"
    }
   ],
   "source": [
    "plt.style.use('default')\n",
    "fig, axs = plt.subplots(1, 2, figsize=(12,4), dpi=150, facecolor=\"w\")\n",
    "\n",
    "ax = axs[0]\n",
    "#nums = list(np.sum(human.obsm[\"X_raw\"] >= 10, axis=1).flat)\n",
    "plot_histogram_mean(ax, transcript_num_per_cell, xmax=900)\n",
    "ax.set_xlabel(\"Total transcript per cell\")\n",
    "ax.set_ylabel(\"Cell number\")\n",
    "ax.set_title(f\"Mouse ({len(transcript_num_per_cell):,d} cells) (bins=100)\")\n",
    "\n",
    "ax = axs[1]\n",
    "\n",
    "plot_histogram_median(ax, transcript_num_per_cell, xmax=900)\n",
    "ax.set_xlabel(\"Total transcript per cell\")\n",
    "ax.set_ylabel(\"Cell number\")\n",
    "ax.set_title(f\"Mouse ({len(transcript_num_per_cell):,d} cells) (bins=100)\")\n",
    "plt.savefig('Xenium transcript per cell histogram.png')"
   ]
  },
  {
   "cell_type": "code",
   "execution_count": null,
   "id": "eb968f2e",
   "metadata": {},
   "outputs": [],
   "source": []
  }
 ],
 "metadata": {
  "kernelspec": {
   "display_name": "Python 3 (ipykernel)",
   "language": "python",
   "name": "python3"
  },
  "language_info": {
   "codemirror_mode": {
    "name": "ipython",
    "version": 3
   },
   "file_extension": ".py",
   "mimetype": "text/x-python",
   "name": "python",
   "nbconvert_exporter": "python",
   "pygments_lexer": "ipython3",
   "version": "3.11.4"
  }
 },
 "nbformat": 4,
 "nbformat_minor": 5
}
